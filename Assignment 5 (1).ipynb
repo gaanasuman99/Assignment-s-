{
 "cells": [
  {
   "cell_type": "markdown",
   "id": "f273fb41",
   "metadata": {},
   "source": [
    "1) What does an empty dictioneries code look like ?"
   ]
  },
  {
   "cell_type": "markdown",
   "id": "b1a5b84f",
   "metadata": {},
   "source": [
    "S: An empty dictionary is represented by two empty curly brackets\n",
    "d = {} or d = dict(). "
   ]
  },
  {
   "cell_type": "markdown",
   "id": "02657caa",
   "metadata": {},
   "source": [
    "2) What is the value of a dictionary value with the key 'foo' and the value 42 ?"
   ]
  },
  {
   "cell_type": "markdown",
   "id": "19d94038",
   "metadata": {},
   "source": [
    "S: {'foo': 42}"
   ]
  },
  {
   "cell_type": "markdown",
   "id": "bff73c49",
   "metadata": {},
   "source": [
    "3) What is the most significant distinction between a dictionary and a list?"
   ]
  },
  {
   "cell_type": "markdown",
   "id": "a41dd7eb",
   "metadata": {},
   "source": [
    "S: Dictionaries are represented by {} where as listed are represented by [].\n",
    "The Items stored in a dictionary are unordered , while the items in a list are ordered."
   ]
  },
  {
   "cell_type": "markdown",
   "id": "243535c3",
   "metadata": {},
   "source": [
    "4) What happens if you try to access spam ['foo'] if spam is {'bar': 100} ?"
   ]
  },
  {
   "cell_type": "markdown",
   "id": "9ea04458",
   "metadata": {},
   "source": [
    "S: We will get a key error, KeyError: 'foo'."
   ]
  },
  {
   "cell_type": "markdown",
   "id": "ed19e036",
   "metadata": {},
   "source": [
    "5) If a dictionary is stored in spam, what is the difference between the expressions 'cat' in spam and 'cat' in spam.keys()?"
   ]
  },
  {
   "cell_type": "markdown",
   "id": "e4ac3440",
   "metadata": {},
   "source": [
    "S: There is no difference. The operator checks whether a value exists as a key in the dictionary or not."
   ]
  },
  {
   "cell_type": "markdown",
   "id": "f8eb122e",
   "metadata": {},
   "source": [
    "6) If a dictionary is stored in spam, what is the difference between the expressions 'cat' in spam and 'cat' in spam.values() ?"
   ]
  },
  {
   "cell_type": "markdown",
   "id": "ef52abef",
   "metadata": {},
   "source": [
    "S: 'cat' in spam checks whether there is a 'cat' key in the dictionary, while 'cat' in spam.values() checks whether there is a value 'cat' for one of the keys in spam."
   ]
  },
  {
   "cell_type": "markdown",
   "id": "a00d2a5e",
   "metadata": {},
   "source": [
    "7) What is a shortcut for the following code?\n",
    "if 'color' not in spam:\n",
    "spam['color'] = 'black'"
   ]
  },
  {
   "cell_type": "markdown",
   "id": "20cd46df",
   "metadata": {},
   "source": [
    "S: spam.setdefault('color','black')."
   ]
  },
  {
   "cell_type": "markdown",
   "id": "9a7072a4",
   "metadata": {},
   "source": [
    "8) How do you \"pretty print\" dictionary values using which module and function ?"
   ]
  },
  {
   "cell_type": "markdown",
   "id": "d77a3205",
   "metadata": {},
   "source": [
    "S: we can pretty print a dictionary using three functions\n",
    "by using pprint() function of pprint module.\n",
    "by using dumps() method of json module.\n",
    "by using dumps() method of yaml module.\n"
   ]
  }
 ],
 "metadata": {
  "kernelspec": {
   "display_name": "Python 3 (ipykernel)",
   "language": "python",
   "name": "python3"
  },
  "language_info": {
   "codemirror_mode": {
    "name": "ipython",
    "version": 3
   },
   "file_extension": ".py",
   "mimetype": "text/x-python",
   "name": "python",
   "nbconvert_exporter": "python",
   "pygments_lexer": "ipython3",
   "version": "3.9.7"
  }
 },
 "nbformat": 4,
 "nbformat_minor": 5
}
