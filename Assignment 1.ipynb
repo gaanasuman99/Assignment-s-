{
 "cells": [
  {
   "cell_type": "markdown",
   "id": "125df1ef",
   "metadata": {},
   "source": [
    "Assignment 1."
   ]
  },
  {
   "cell_type": "markdown",
   "id": "3cb9e238",
   "metadata": {},
   "source": [
    "1) values:- 'hello', -87.8, 6,\n",
    "expressions:- *, -, /, +"
   ]
  },
  {
   "cell_type": "markdown",
   "id": "bcb3d0aa",
   "metadata": {},
   "source": [
    "2) Variables are sysmbols that we can use to store data in a program.\n",
    "   Strings are the data and we can use them to fill up a variable."
   ]
  },
  {
   "cell_type": "markdown",
   "id": "5f54d3fb",
   "metadata": {},
   "source": [
    "3) Three different data types are:\n",
    "   a) Lists:- it is used for storing multiple data items in a single variable.\n",
    "   b) Integer:- It can store only numerical values.\n",
    "   c) Float:- It can store only floating values such as 12.22, 765.45, etc."
   ]
  },
  {
   "cell_type": "markdown",
   "id": "048c8d25",
   "metadata": {},
   "source": [
    "4) An expression is made up of variables, operators, and method incovations constructed according to the sysntax of the language, that evaluates to a single value."
   ]
  },
  {
   "cell_type": "markdown",
   "id": "e725e7cf",
   "metadata": {},
   "source": [
    "5) An expression is something that can be reduced to value but statement cannot be reduced to value."
   ]
  },
  {
   "cell_type": "markdown",
   "id": "e247d37f",
   "metadata": {},
   "source": [
    "6) 23"
   ]
  },
  {
   "cell_type": "code",
   "execution_count": 1,
   "id": "f3216e3a",
   "metadata": {},
   "outputs": [],
   "source": [
    "bacon=22"
   ]
  },
  {
   "cell_type": "code",
   "execution_count": 2,
   "id": "36dfbecf",
   "metadata": {},
   "outputs": [
    {
     "data": {
      "text/plain": [
       "23"
      ]
     },
     "execution_count": 2,
     "metadata": {},
     "output_type": "execute_result"
    }
   ],
   "source": [
    "bacon+1"
   ]
  },
  {
   "cell_type": "markdown",
   "id": "c868df1d",
   "metadata": {},
   "source": [
    "7) same"
   ]
  },
  {
   "cell_type": "code",
   "execution_count": 3,
   "id": "a15c3da7",
   "metadata": {},
   "outputs": [
    {
     "data": {
      "text/plain": [
       "'spamspamspam'"
      ]
     },
     "execution_count": 3,
     "metadata": {},
     "output_type": "execute_result"
    }
   ],
   "source": [
    "'spam'+'spamspam'"
   ]
  },
  {
   "cell_type": "code",
   "execution_count": 4,
   "id": "76ecbb4c",
   "metadata": {},
   "outputs": [
    {
     "data": {
      "text/plain": [
       "'spamspamspam'"
      ]
     },
     "execution_count": 4,
     "metadata": {},
     "output_type": "execute_result"
    }
   ],
   "source": [
    "'spam'*3"
   ]
  },
  {
   "cell_type": "markdown",
   "id": "c66614ef",
   "metadata": {},
   "source": [
    "8) Because, variable names cannot begin with a number. "
   ]
  },
  {
   "cell_type": "markdown",
   "id": "23e0659d",
   "metadata": {},
   "source": [
    "9) int(), float() and str()"
   ]
  },
  {
   "cell_type": "markdown",
   "id": "30ec56bd",
   "metadata": {},
   "source": [
    "10) Because, 99 is an integer it cannot be concatenated with strings, if we have to concatenate it we have to do typecasting."
   ]
  },
  {
   "cell_type": "code",
   "execution_count": null,
   "id": "fb0f4e1a",
   "metadata": {},
   "outputs": [],
   "source": []
  }
 ],
 "metadata": {
  "kernelspec": {
   "display_name": "Python 3 (ipykernel)",
   "language": "python",
   "name": "python3"
  },
  "language_info": {
   "codemirror_mode": {
    "name": "ipython",
    "version": 3
   },
   "file_extension": ".py",
   "mimetype": "text/x-python",
   "name": "python",
   "nbconvert_exporter": "python",
   "pygments_lexer": "ipython3",
   "version": "3.9.7"
  }
 },
 "nbformat": 4,
 "nbformat_minor": 5
}
