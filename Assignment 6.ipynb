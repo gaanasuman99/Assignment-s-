{
 "cells": [
  {
   "cell_type": "markdown",
   "id": "7cb0f343",
   "metadata": {},
   "source": [
    "1) What are escape characters, and how do you use them?"
   ]
  },
  {
   "cell_type": "markdown",
   "id": "3a2e8bbe",
   "metadata": {},
   "source": [
    "S: Escape characters represent characters in string values that would otherwise be difficult or impossible to type into code, we can use the backslash character to escape a single character or symbol."
   ]
  },
  {
   "cell_type": "markdown",
   "id": "1b4eaef5",
   "metadata": {},
   "source": [
    "2) What do the escape characters n and t stand for?"
   ]
  },
  {
   "cell_type": "markdown",
   "id": "0b526538",
   "metadata": {},
   "source": [
    "S: \\n is a newline, \\t is a tab."
   ]
  },
  {
   "cell_type": "markdown",
   "id": "1bf35e64",
   "metadata": {},
   "source": [
    "3) What is the way to include backslash characters in a string?"
   ]
  },
  {
   "cell_type": "markdown",
   "id": "5717c636",
   "metadata": {},
   "source": [
    "S: The \\\\ escape character will represent the backslash character in a string."
   ]
  },
  {
   "cell_type": "markdown",
   "id": "393a62dd",
   "metadata": {},
   "source": [
    "4) The string \"Howl's Moving Castle\" is a correct value. Why isn't the single quote character in the word Howl's not escaped a problem?"
   ]
  },
  {
   "cell_type": "markdown",
   "id": "a647f924",
   "metadata": {},
   "source": [
    "S: The string \"Howl's Moving Castle\" escaped the problem because it is wrapped inside double quotes, if its wrapped inside single quotes then we have to use escape character \\' to show single quote in the final output\n",
    "'Howl\\'s Moving Castle' -> 'Howl's Moving Castle'."
   ]
  },
  {
   "cell_type": "markdown",
   "id": "8e94f8f5",
   "metadata": {},
   "source": [
    "5) How do you write a string of newlines if you don't want to use the n character?"
   ]
  },
  {
   "cell_type": "markdown",
   "id": "40d2af01",
   "metadata": {},
   "source": [
    "S: Multiline string allow you to use newlines in string without the \\n escape character."
   ]
  },
  {
   "cell_type": "markdown",
   "id": "f9765a25",
   "metadata": {},
   "source": [
    "6) What are the values of the given expressions?\n",
    "'Hello, world!'[1]\n",
    "'Hello, world!'[0:5]\n",
    "'Hello, world!'[:5]\n",
    "'Hello, world!'[3:]\n"
   ]
  },
  {
   "cell_type": "markdown",
   "id": "533a007e",
   "metadata": {},
   "source": [
    "S: The values for the given expressions are:\n",
    "'Hello, world!'[1] -> 'e'\n",
    "'Hello, world!'[0:5] -> 'Hello'\n",
    "'Hello, world!'[:5] -> 'Hello'\n",
    "'Hello, world!'[3:] -> 'lo, world!'."
   ]
  },
  {
   "cell_type": "markdown",
   "id": "02068a08",
   "metadata": {},
   "source": [
    "7) What are the values of the following expressions?\n",
    "'Hello'.upper()\n",
    "'Hello'.upper().isupper()\n",
    "'Hello'.upper().lower()"
   ]
  },
  {
   "cell_type": "markdown",
   "id": "03adad41",
   "metadata": {},
   "source": [
    "S: The values for the given expressions are:\n",
    "'Hello'.upper() -> 'HELLO'\n",
    "'Hello'.upper().isupper() -> True\n",
    "'Hello'.upper().lower() -> 'hello'"
   ]
  },
  {
   "cell_type": "markdown",
   "id": "3e73df2d",
   "metadata": {},
   "source": [
    "8) What are the values of the following expressions?\n",
    "'Remember, remember, the fifth of July.'.split()\n",
    "'-'.join('There can only one.'.split()).\n"
   ]
  },
  {
   "cell_type": "markdown",
   "id": "7b80335c",
   "metadata": {},
   "source": [
    "S: The values for the given expressions are:\n",
    "'Remember, remember, the fifith of July.'.split() -> ['Remember,', 'remember,', 'the', 'fifith', 'of', 'July.']\n",
    "'-'.join('There can only one'.split()) -> 'There-can-only-one'."
   ]
  },
  {
   "cell_type": "markdown",
   "id": "8c2a8c4d",
   "metadata": {},
   "source": [
    "9) What are the methods for right-justifying, left-justifying, and centering a string?"
   ]
  },
  {
   "cell_type": "markdown",
   "id": "6304050e",
   "metadata": {},
   "source": [
    "S:  The rjust(),ljust(),center() string methods, respectively."
   ]
  },
  {
   "cell_type": "markdown",
   "id": "d2d41d5f",
   "metadata": {},
   "source": [
    "10) What is the best way to remove whitespace characters from the start or end?"
   ]
  },
  {
   "cell_type": "markdown",
   "id": "f97b5cf7",
   "metadata": {},
   "source": [
    "S: The lstrip() and rstrip() methods remove whitesapce characters from the left and right ends of a string respectively."
   ]
  }
 ],
 "metadata": {
  "kernelspec": {
   "display_name": "Python 3 (ipykernel)",
   "language": "python",
   "name": "python3"
  },
  "language_info": {
   "codemirror_mode": {
    "name": "ipython",
    "version": 3
   },
   "file_extension": ".py",
   "mimetype": "text/x-python",
   "name": "python",
   "nbconvert_exporter": "python",
   "pygments_lexer": "ipython3",
   "version": "3.9.7"
  }
 },
 "nbformat": 4,
 "nbformat_minor": 5
}
