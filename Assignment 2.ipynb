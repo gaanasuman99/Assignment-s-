{
 "cells": [
  {
   "cell_type": "markdown",
   "id": "f52b6255",
   "metadata": {},
   "source": [
    "1) Two values of boolean data types are True and False and they are written as T and F."
   ]
  },
  {
   "cell_type": "markdown",
   "id": "3be68b8d",
   "metadata": {},
   "source": [
    "2) Three different types of Boolean operators are:- and, or and not."
   ]
  },
  {
   "cell_type": "markdown",
   "id": "cf500bbd",
   "metadata": {},
   "source": [
    "3) Boolean operator's truth table:- True=1 and False=0 a) True and True is True. b) True and False is False. c) False and False is False. d) False and True is False. e) True or True is True. f) True or False is True. g) False or False is False. h) False or True is True. i) not True is False. j) not False is True."
   ]
  },
  {
   "cell_type": "markdown",
   "id": "bb411768",
   "metadata": {},
   "source": [
    "4) a) (5>4) and (3==5) = False b) not (5>4) = False c) (5>4) or (3==5) = True d) not(5>4) or (3==5) = False e) (True and True) and (True==False) = False f) not(False) or not(True) = True"
   ]
  },
  {
   "cell_type": "markdown",
   "id": "09dfc728",
   "metadata": {},
   "source": [
    "5) Six comparison operators are:- a) == b) != c) < d) > e) <= f) >="
   ]
  },
  {
   "cell_type": "markdown",
   "id": "932918b2",
   "metadata": {},
   "source": [
    "6) '==' is the equal to operator and it compares two values and evaluates to a boolean, while '=' is the assignment operator that stores a value in a variable."
   ]
  },
  {
   "cell_type": "markdown",
   "id": "74b5ad65",
   "metadata": {},
   "source": [
    "7) Three blocks in this code are ham, spam, spam."
   ]
  },
  {
   "cell_type": "code",
   "execution_count": 1,
   "id": "cb02189d",
   "metadata": {},
   "outputs": [
    {
     "name": "stdout",
     "output_type": "stream",
     "text": [
      "Number: 5\n",
      "Greetings\n"
     ]
    }
   ],
   "source": [
    "spam=int(input(\"Number: \"))\n",
    "if spam==1:\n",
    "    print(\"Hello\")\n",
    "elif spam==2:\n",
    "    print(\"Howdy\")\n",
    "else:\n",
    "    print(\"Greetings\")"
   ]
  },
  {
   "cell_type": "markdown",
   "id": "54de78b1",
   "metadata": {},
   "source": [
    "9) If a program is stuck in an endless loop ctrl+c is to be pressed."
   ]
  },
  {
   "cell_type": "markdown",
   "id": "8705da59",
   "metadata": {},
   "source": [
    "10) Break statement stops the entire process of the loop whereas continue statement stops only the current iteration of the loop."
   ]
  },
  {
   "cell_type": "code",
   "execution_count": 2,
   "id": "cd359774",
   "metadata": {},
   "outputs": [
    {
     "name": "stdout",
     "output_type": "stream",
     "text": [
      "0\n",
      "1\n",
      "2\n",
      "3\n",
      "4\n",
      "5\n",
      "6\n",
      "7\n",
      "and\n",
      "0\n",
      "1\n",
      "2\n",
      "3\n",
      "4\n",
      "5\n",
      "6\n",
      "7\n",
      "9\n"
     ]
    }
   ],
   "source": [
    "for i in range(10):\n",
    "    if(i==8):\n",
    "        break\n",
    "    print(i)\n",
    "print(\"and\")\n",
    "for i in range(10):\n",
    "    if(i==8):\n",
    "        continue\n",
    "    print(i)\n",
    "    "
   ]
  },
  {
   "cell_type": "code",
   "execution_count": 3,
   "id": "ee283b69",
   "metadata": {},
   "outputs": [
    {
     "name": "stdout",
     "output_type": "stream",
     "text": [
      "0\n",
      "1\n",
      "2\n",
      "3\n",
      "4\n",
      "5\n",
      "6\n",
      "7\n",
      "8\n",
      "9\n",
      "and\n",
      "0\n",
      "1\n",
      "2\n",
      "3\n",
      "4\n",
      "5\n",
      "6\n",
      "7\n",
      "8\n",
      "9\n",
      "and\n",
      "0\n",
      "1\n",
      "2\n",
      "3\n",
      "4\n",
      "5\n",
      "6\n",
      "7\n",
      "8\n",
      "9\n"
     ]
    }
   ],
   "source": [
    "for i in range(10):\n",
    "    print(i)\n",
    "print(\"and\")\n",
    "for i in range(0,10):\n",
    "    print(i)\n",
    "print(\"and\")\n",
    "for i in range(0,10,1):\n",
    "    print(i)"
   ]
  },
  {
   "cell_type": "markdown",
   "id": "722b2890",
   "metadata": {},
   "source": [
    "13) This function can be called with spam.bacon()"
   ]
  },
  {
   "cell_type": "code",
   "execution_count": null,
   "id": "bbc17acb",
   "metadata": {},
   "outputs": [],
   "source": []
  }
 ],
 "metadata": {
  "kernelspec": {
   "display_name": "Python 3 (ipykernel)",
   "language": "python",
   "name": "python3"
  },
  "language_info": {
   "codemirror_mode": {
    "name": "ipython",
    "version": 3
   },
   "file_extension": ".py",
   "mimetype": "text/x-python",
   "name": "python",
   "nbconvert_exporter": "python",
   "pygments_lexer": "ipython3",
   "version": "3.9.7"
  }
 },
 "nbformat": 4,
 "nbformat_minor": 5
}
