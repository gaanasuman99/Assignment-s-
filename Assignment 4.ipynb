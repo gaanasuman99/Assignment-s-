{
 "cells": [
  {
   "cell_type": "markdown",
   "id": "5ec04a94",
   "metadata": {},
   "source": [
    "1) What exactly is []?\n",
    "Ans: The empty list represented by [] is a list that contains no items. This is similar to '' which represents an empty string."
   ]
  },
  {
   "cell_type": "markdown",
   "id": "1031fac9",
   "metadata": {},
   "source": [
    "2) In a list of values stored in a variable called spam, how would you assign the value 'hello' as the third value? (Assume [2, 4, 6, 8, 10] are in spam.)\n",
    "Ans: spam[2]='hello' (Note: Lists follows zero based indexing)"
   ]
  },
  {
   "cell_type": "markdown",
   "id": "8ac106ea",
   "metadata": {},
   "source": [
    "Example"
   ]
  },
  {
   "cell_type": "code",
   "execution_count": 4,
   "id": "a441c1d6",
   "metadata": {},
   "outputs": [
    {
     "name": "stdout",
     "output_type": "stream",
     "text": [
      "[2, 4, 6, 8, 10]\n",
      "[2, 4, 'hello', 8, 10]\n"
     ]
    }
   ],
   "source": [
    "spam=[2,4,6,8,10]\n",
    "print(spam)\n",
    "spam[2]=\"hello\"\n",
    "print(spam)"
   ]
  },
  {
   "cell_type": "markdown",
   "id": "2cb1c444",
   "metadata": {},
   "source": [
    "Let's pretend the spam includes the list ['a','b','c',d'] for the next three queries."
   ]
  },
  {
   "cell_type": "markdown",
   "id": "3b520a21",
   "metadata": {},
   "source": [
    "3) What is the value of spam[int(int('3'*2)//11)] ?\n",
    "Ans: 'd' (Note that '3' * 2 is the string '33', which is passed to int() before being divided by 11. This eventually evaluates to 3, spam[3] is equal to d."
   ]
  },
  {
   "cell_type": "code",
   "execution_count": 5,
   "id": "4a81600e",
   "metadata": {},
   "outputs": [
    {
     "name": "stdout",
     "output_type": "stream",
     "text": [
      "spam[int(int('3'*2)//11)] -> d\n"
     ]
    }
   ],
   "source": [
    "spam=['a','b','c','d']\n",
    "print(\"spam[int(int('3'*2)//11)] ->\",spam[int(int('3'*2)//11)])"
   ]
  },
  {
   "cell_type": "markdown",
   "id": "afd754fb",
   "metadata": {},
   "source": [
    "4) What is the value of spam[-1]?\n",
    "Ans: 'd' (Lists support Negative indexing, Hence spam[-1] returs 'd')"
   ]
  },
  {
   "cell_type": "code",
   "execution_count": 6,
   "id": "708b7822",
   "metadata": {},
   "outputs": [
    {
     "name": "stdout",
     "output_type": "stream",
     "text": [
      "d\n"
     ]
    }
   ],
   "source": [
    "spam=['a','b','c','d']\n",
    "print(spam[-1])"
   ]
  },
  {
   "cell_type": "markdown",
   "id": "c00ead2c",
   "metadata": {},
   "source": [
    "5) What is the value of spam[:2]?\n",
    "Ans: spam[:2] returns all elements in the list spam from 0 to 2 excluding 2."
   ]
  },
  {
   "cell_type": "code",
   "execution_count": 7,
   "id": "12390c23",
   "metadata": {},
   "outputs": [
    {
     "name": "stdout",
     "output_type": "stream",
     "text": [
      "['a', 'b']\n"
     ]
    }
   ],
   "source": [
    "spam=['a','b','c','d']\n",
    "print(spam[:2])"
   ]
  },
  {
   "cell_type": "markdown",
   "id": "d600b3d6",
   "metadata": {},
   "source": [
    "Let's pretend bacon has the list [3.14,'cat',11,'cat',True] for the next three question."
   ]
  },
  {
   "cell_type": "markdown",
   "id": "0e533515",
   "metadata": {},
   "source": [
    "6)  What is the value of bacon.index('cat')?\n",
    "Ans: The value of bacon.index('cat') is 1 (Note: index method returns the index of first occuerence of 'cat')"
   ]
  },
  {
   "cell_type": "code",
   "execution_count": 9,
   "id": "267d5893",
   "metadata": {},
   "outputs": [
    {
     "name": "stdout",
     "output_type": "stream",
     "text": [
      "bacon.index('cat')-> 1\n"
     ]
    }
   ],
   "source": [
    "bacon=[3.14,'cat',11,'cat',True]\n",
    "print(\"bacon.index('cat')->\",bacon.index('cat'))"
   ]
  },
  {
   "cell_type": "markdown",
   "id": "fa1866ea",
   "metadata": {},
   "source": [
    "7) How does bacon.append(99) change the look of the list value in bacon?\n",
    "Ans: The append method adds new elements to the end of the list."
   ]
  },
  {
   "cell_type": "markdown",
   "id": "7ab18914",
   "metadata": {},
   "source": [
    "8) what are the list concatenation and list replication operations?\n",
    "Ans: The operator for list concatenation is +, while the operator for replication is *. (This is the same as for strings.)"
   ]
  },
  {
   "cell_type": "markdown",
   "id": "5d501c4d",
   "metadata": {},
   "source": [
    "9) what is the difference between the list method append() and insert()?\n",
    "Ans: While append() will add values only to the end of a list, insert() can add them anywhere in the list."
   ]
  },
  {
   "cell_type": "markdown",
   "id": "1d3a8734",
   "metadata": {},
   "source": [
    "10) What are the two methods for removing items from a list?\n",
    "Ans: The del statement and the remove() method are two ways to remove values from a list. "
   ]
  },
  {
   "cell_type": "markdown",
   "id": "66f52f95",
   "metadata": {},
   "source": [
    "11)  Describe how list values and string values are identical.\n",
    "Ans: Both lists and strings can be passed to len() function, have indexes and slices, be used in for loops, be concatenated or replicated, and be used with the in and not in operators."
   ]
  },
  {
   "cell_type": "markdown",
   "id": "1ed0eb72",
   "metadata": {},
   "source": [
    "12) What's the difference between tuples and lists?\n",
    "Ans: Lists are Mutable, Indexable and Slicable. they can have values added, removed, or changed. Tuples are Immutable but Indexable and Slicable. the tuple values cannot be changed at all. Also, tuples are represented using parentheses '()', while lists use the square brackets '[]'."
   ]
  },
  {
   "cell_type": "markdown",
   "id": "e020411e",
   "metadata": {},
   "source": [
    "13) How do you type a tuple value that only contains the integer 42?\n",
    "Ans:(42,). (The trailing comma is mandatory, otherwise its considered as a int by python Interpreter)."
   ]
  },
  {
   "cell_type": "code",
   "execution_count": 18,
   "id": "285c594c",
   "metadata": {},
   "outputs": [
    {
     "name": "stdout",
     "output_type": "stream",
     "text": [
      "<class 'int'>\n",
      "<class 'tuple'>\n"
     ]
    }
   ],
   "source": [
    "tup1=(42)\n",
    "tup2=(42,)\n",
    "print(type(tup1))\n",
    "print(type(tup2))"
   ]
  },
  {
   "cell_type": "markdown",
   "id": "319e54b9",
   "metadata": {},
   "source": [
    "14) How do you get a list value's tuple form? How do you get a tuple value's list form?\n",
    "Ans: The tuple() and list() functions, respectively are used to convert a list to tuple and vice versa."
   ]
  },
  {
   "cell_type": "markdown",
   "id": "f11b3e57",
   "metadata": {},
   "source": [
    "15) Variables that \"contain\" list values are not necessarily lists themselves. Instead, what do they contain?\n",
    "Ans: They contain references to list values."
   ]
  },
  {
   "cell_type": "markdown",
   "id": "08a1b971",
   "metadata": {},
   "source": [
    "16) How do you distinguish between copy.copy() and copy.deepcopy()?\n",
    "Ans: The copy.copy() function will do a shallow copy of a list, while the copy.deepcopy() function will do a deep copy of a list. That is, only copy.deepcopy() will duplicate any lists inside the list."
   ]
  },
  {
   "cell_type": "markdown",
   "id": "1e2406b5",
   "metadata": {},
   "source": [
    "17) How does bacon.remove('cat') change the look of the list in bacon?\n",
    "Ans: The remove method removes the first occurence of the element in the list."
   ]
  }
 ],
 "metadata": {
  "kernelspec": {
   "display_name": "Python 3 (ipykernel)",
   "language": "python",
   "name": "python3"
  },
  "language_info": {
   "codemirror_mode": {
    "name": "ipython",
    "version": 3
   },
   "file_extension": ".py",
   "mimetype": "text/x-python",
   "name": "python",
   "nbconvert_exporter": "python",
   "pygments_lexer": "ipython3",
   "version": "3.9.7"
  }
 },
 "nbformat": 4,
 "nbformat_minor": 5
}
